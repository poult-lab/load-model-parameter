{
 "cells": [
  {
   "cell_type": "code",
   "execution_count": null,
   "metadata": {},
   "outputs": [],
   "source": [
    "import pickle\n",
    "import torch\n",
    "from model_code import *\n",
    "\n",
    "filename=\"model/MODEL_1.pickle\"\n",
    "\n",
    "with open(filename, 'rb') as handle:\n",
    "    input = pickle.load(handle)\n",
    "\n",
    "model = {}\n",
    "DEVICE = 'cuda:0' if torch.cuda.is_available() else 'cpu'\n",
    "\n",
    "model['classifier'] = NN(nOUT=26).to(DEVICE)\n",
    "model['classifier'].load_state_dict(input['state_dict'])\n",
    "model['classifier'].eval()\n",
    "model['thresholds'] = input['thresholds']\n",
    "model['classes'] = input['classes']"
   ]
  },
  {
   "cell_type": "markdown",
   "metadata": {},
   "source": [
    "#### checking the detailed information of pickle"
   ]
  },
  {
   "cell_type": "code",
   "execution_count": 18,
   "metadata": {},
   "outputs": [
    {
     "name": "stdout",
     "output_type": "stream",
     "text": [
      "------------------------------\n",
      "['164889003', '164890007', '6374002', '426627000', '733534002', '713427006', '270492004', '713426002', '39732003', '445118002', '164947007', '251146004', '111975006', '698252002', '426783006', '284470004', '10370003', '365413008', '427172004', '164917005', '47665007', '427393009', '426177001', '427084000', '164934002', '59931005']\n",
      "------------------------------\n",
      "[0.70500736 0.81810405 0.10656723 0.75989808 0.71756354 0.96656416\n",
      " 0.96       0.46888111 0.96       0.76100453 0.60565705 0.60496293\n",
      " 0.96       0.96       0.96       0.73304932 0.48935423 0.83491534\n",
      " 0.96       0.96       0.65481598 0.96054233 0.43873063 0.96\n",
      " 0.54588261 0.83629101]\n",
      "------------------------------\n",
      "\n"
     ]
    }
   ],
   "source": [
    "import pickle\n",
    "import numpy as np\n",
    "\n",
    "filename=\"model/MODEL_1.pickle\"\n",
    "\n",
    "with open(filename, 'rb') as handle:\n",
    "    input = pickle.load(handle)\n",
    "\n",
    "# print(input.items())\n",
    "print(\"------------------------\")\n",
    "print(input.keys())\n",
    "\n",
    "\n",
    "for key, value in input.items():\n",
    "    print(\"This is the key:\", key)\n",
    "    print(\"This is the value's shape: \", np.array(value).shape)\n",
    "    \n",
    "# print(input['state_dict'])\n",
    "print(input['state_dict'].keys())\n",
    "print(\"------------------------------\")\n",
    "\n",
    "for key, value in input['state_dict'].items():\n",
    "    print(key, np.array(value).shape)\n",
    "    \n",
    "\n",
    "\n",
    "print(\"------------------------------\")\n",
    "print(input['classes'])\n",
    "print(\"------------------------------\")\n",
    "print(input['thresholds'])\n",
    "print(\"------------------------------\")\n",
    "print(input['info'])\n",
    "# print(input)\n",
    "\n"
   ]
  }
 ],
 "metadata": {
  "kernelspec": {
   "display_name": "ECG",
   "language": "python",
   "name": "python3"
  },
  "language_info": {
   "codemirror_mode": {
    "name": "ipython",
    "version": 3
   },
   "file_extension": ".py",
   "mimetype": "text/x-python",
   "name": "python",
   "nbconvert_exporter": "python",
   "pygments_lexer": "ipython3",
   "version": "3.8.17"
  },
  "orig_nbformat": 4
 },
 "nbformat": 4,
 "nbformat_minor": 2
}
